{
 "cells": [
  {
   "cell_type": "code",
   "execution_count": 56,
   "metadata": {},
   "outputs": [
    {
     "name": "stdout",
     "output_type": "stream",
     "text": [
      "<bound method Basic.rewrite of a*log(b + t) + c*t>\n",
      "<bound method Basic.rewrite of -a**2/(b + t) + 2*a*c*log(b + t) + c**2*t>\n",
      "Factors\n",
      "<bound method Basic.rewrite of -a**2/(b + t)>\n",
      "<bound method Basic.rewrite of 2*a*c*log(b + t)>\n",
      "<bound method Basic.rewrite of c**2*t>\n"
     ]
    }
   ],
   "source": [
    "from sympy import symbols, integrate, sqrt\n",
    "import numpy as np\n",
    "#lambda t, T, a=0.9, b=0.6, c=0.1: a / (t + b) + c\n",
    "\n",
    "\n",
    "# Define the symbols for time t, and parameters a, b, c\n",
    "t, a, b, c = symbols('t a b c' )\n",
    "\n",
    "# Define the vol_structure function using SymPy notation\n",
    "sigma_bs = (a / (t + b)) + c\n",
    "var_bs = sigma_bs**2\n",
    "int_sigma_bs = integrate(sigma_bs, t)\n",
    "int_var_bs = integrate(var_bs,t)\n",
    "\n",
    "f1 = a / (t + b) \n",
    "f2 = sqrt((2*a*c)/(t+b))\n",
    "f3 = c\n",
    "\n",
    "\n",
    "int_f1 = integrate(f1**2, t)\n",
    "int_f2 = integrate(f2**2, t)\n",
    "int_f3 = integrate(f3**2, t)\n",
    "\n",
    "print(int_sigma_bs.rewrite)\n",
    "print(int_var_bs.rewrite)\n",
    "print(\"Factors\")\n",
    "print(int_f1.rewrite)\n",
    "print(int_f2.rewrite)\n",
    "print(int_f3.rewrite)\n",
    "\n",
    "\n"
   ]
  },
  {
   "cell_type": "code",
   "execution_count": 57,
   "metadata": {},
   "outputs": [
    {
     "data": {
      "text/latex": [
       "$\\displaystyle \\sqrt{- \\frac{a^{2}}{b + t}}$"
      ],
      "text/plain": [
       "sqrt(-a**2/(b + t))"
      ]
     },
     "execution_count": 57,
     "metadata": {},
     "output_type": "execute_result"
    }
   ],
   "source": [
    "sqrt(-a**2/(b + t))"
   ]
  },
  {
   "cell_type": "code",
   "execution_count": 28,
   "metadata": {},
   "outputs": [
    {
     "data": {
      "text/plain": [
       "[<matplotlib.lines.Line2D at 0x1d77fafa9c0>]"
      ]
     },
     "execution_count": 28,
     "metadata": {},
     "output_type": "execute_result"
    },
    {
     "data": {
      "image/png": "[encoded data removed]",
      "text/plain": [
       "<Figure size 640x480 with 1 Axes>"
      ]
     },
     "metadata": {},
     "output_type": "display_data"
    }
   ],
   "source": [
    "import numpy as np\n",
    "import matplotlib.pyplot as plt\n",
    "\n",
    "def term_structure(t, T_max=5.0):\n",
    "    # Define a term structure function that could depend on t\n",
    "    # Simple sinusoidal term structure for demonstration\n",
    "    return 100 + 10 * np.cos(2*T_max * np.pi * t /T_max) + np.exp(0.5*t)\n",
    "\n",
    "def vol_structure(t, T, a= 0.9, b = 0.6, c= 0.1):\n",
    "    return a / (t + b) + c\n",
    "\n",
    "\n",
    "# Parameters \n",
    "T = 5  # Total time of the simulation in years\n",
    "F0 = term_structure(0)  # Initial forward price using the term structure\n",
    "dt = 1/252  # Daily time step\n",
    "paths = 1000  # Number of paths to simulate\n",
    "n_steps = int(T / dt)\n",
    "\n",
    "taus = np.arange(0, n_steps + 1) * dt  # Time steps\n",
    "\n",
    "#plt.plot(taus, term_structure(taus, T), lw=1, label='Term Structure')\n",
    "plt.plot(taus, vol_structure(taus, T), lw=1, label='Term Structure')\n",
    "\n",
    "Int1 = 0\n",
    "Int2 = 0\n",
    "Int3 = 0\n",
    "\n",
    "F1 = F0 * np.exp(Int1 * rand1 - 0.5 * Int1**2) * np.exp(Int2 * rand2 - 0.5 * Int2**2) * np.exp(Int3 * rand3 - 0.5 * Int3**2)\n"
   ]
  },
  {
   "cell_type": "code",
   "execution_count": null,
   "metadata": {},
   "outputs": [],
   "source": []
  }
 ],
 "metadata": {
  "kernelspec": {
   "display_name": ".venv",
   "language": "python",
   "name": "python3"
  },
  "language_info": {
   "codemirror_mode": {
    "name": "ipython",
    "version": 3
   },
   "file_extension": ".py",
   "mimetype": "text/x-python",
   "name": "python",
   "nbconvert_exporter": "python",
   "pygments_lexer": "ipython3",
   "version": "3.12.3"
  }
 },
 "nbformat": 4,
 "nbformat_minor": 2
}
