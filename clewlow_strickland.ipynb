{
 "cells": [
  {
   "cell_type": "markdown",
   "metadata": {},
   "source": [
    "# Clewlow Strickland"
   ]
  },
  {
   "cell_type": "code",
   "execution_count": 1,
   "metadata": {},
   "outputs": [],
   "source": [
    "import numpy as np\n",
    "\n",
    "\n",
    "from scipy.integrate import quad"
   ]
  },
  {
   "cell_type": "markdown",
   "metadata": {},
   "source": [
    "### Options on Foward and Futures : Multi-Factor Model\n",
    "\n",
    "Define the volatitlity function $\\sigma(u, s, \\alpha, \\beta)$ which is a simple and usual form for modelling volatility according to the formula 2.7 in Clewlow, Strickland, 1999 : $\\sigma(u, s, \\alpha, \\beta) = \\beta e^{-\\alpha(s-u)}$. We also recall that $ w = \\sum_{i = 1}^n \\{ \\int_t^T \\sigma_i(u,s)^2 du \\} $."
   ]
  },
  {
   "cell_type": "code",
   "execution_count": 2,
   "metadata": {},
   "outputs": [],
   "source": [
    "def sigma(u, s, alpha, beta):\n",
    "    return beta * np.exp(-alpha * (s - u))\n",
    "\n",
    "def compute_w(t, T, s, alpha, beta):\n",
    "    \"\"\"\n",
    "    Compute the accumulated variance w\n",
    "    n number of factors in the model\n",
    "    \"\"\"\n",
    "    w = 0\n",
    "    for i in range(len(alpha)):\n",
    "        integral, _ = quad(lambda u: sigma(u, s, alpha[i], beta[i])**2, t, T) # quad compute the integral of the square of the volatility\n",
    "        w += integral\n",
    "    return w"
   ]
  }
 ],
 "metadata": {
  "kernelspec": {
   "display_name": ".venv",
   "language": "python",
   "name": "python3"
  },
  "language_info": {
   "codemirror_mode": {
    "name": "ipython",
    "version": 3
   },
   "file_extension": ".py",
   "mimetype": "text/x-python",
   "name": "python",
   "nbconvert_exporter": "python",
   "pygments_lexer": "ipython3",
   "version": "3.12.3"
  }
 },
 "nbformat": 4,
 "nbformat_minor": 2
}
