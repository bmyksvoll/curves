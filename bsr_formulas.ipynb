{
 "cells": [
  {
   "cell_type": "code",
   "execution_count": 46,
   "metadata": {},
   "outputs": [
    {
     "data": {
      "text/latex": [
       "$\\displaystyle \\frac{a}{T + b - t} + c$"
      ],
      "text/plain": [
       "a/(T + b - t) + c"
      ]
     },
     "execution_count": 46,
     "metadata": {},
     "output_type": "execute_result"
    }
   ],
   "source": [
    "from sympy import symbols, integrate, sqrt\n",
    "import numpy as np\n",
    "#lambda t, T, a=0.9, b=0.6, c=0.1: a / (t + b) + c\n",
    "\n",
    "\n",
    "# Define the symbols for time t, and parameters a, b, c\n",
    "t, T,  a, b, c = symbols('t T a b c' )\n",
    "\n",
    "# Define the vol_structure function using SymPy notation\n",
    "sigma_bsr = a / (T-t + b) + c\n",
    "sigma_bsr\n",
    "#int_var_bs.evalf(subs={t:0}).rewrite\n",
    "\n"
   ]
  },
  {
   "cell_type": "markdown",
   "metadata": {},
   "source": [
    "## Variance"
   ]
  },
  {
   "cell_type": "code",
   "execution_count": 47,
   "metadata": {},
   "outputs": [
    {
     "data": {
      "text/latex": [
       "$\\displaystyle - \\frac{a^{2}}{- T - b + t} - 2 a c \\log{\\left(- T - b + t \\right)} + c^{2} t$"
      ],
      "text/plain": [
       "-a**2/(-T - b + t) - 2*a*c*log(-T - b + t) + c**2*t"
      ]
     },
     "execution_count": 47,
     "metadata": {},
     "output_type": "execute_result"
    }
   ],
   "source": [
    "var_bsr = sigma_bsr**2\n",
    "var_bsr\n",
    "int_var_bsr = integrate(var_bsr,t)\n",
    "int_var_bsr"
   ]
  },
  {
   "cell_type": "code",
   "execution_count": 48,
   "metadata": {},
   "outputs": [
    {
     "data": {
      "text/plain": [
       "<bound method Basic.refine of -a**2/(-T - b + t) - 2*a*c*log(-T - b + t) + c**2*t>"
      ]
     },
     "execution_count": 48,
     "metadata": {},
     "output_type": "execute_result"
    }
   ],
   "source": [
    "int_var_bsr.refine"
   ]
  },
  {
   "cell_type": "code",
   "execution_count": 1,
   "metadata": {},
   "outputs": [],
   "source": [
    "from numpy import log\n",
    "def integral_brs(s,T, a, b,c):\n",
    "    return(a**2/(T - s + b) - 2*a*c*log(T - s + b) + c**2*s)"
   ]
  }
 ],
 "metadata": {
  "kernelspec": {
   "display_name": ".venv",
   "language": "python",
   "name": "python3"
  },
  "language_info": {
   "codemirror_mode": {
    "name": "ipython",
    "version": 3
   },
   "file_extension": ".py",
   "mimetype": "text/x-python",
   "name": "python",
   "nbconvert_exporter": "python",
   "pygments_lexer": "ipython3",
   "version": "3.12.3"
  }
 },
 "nbformat": 4,
 "nbformat_minor": 2
}
