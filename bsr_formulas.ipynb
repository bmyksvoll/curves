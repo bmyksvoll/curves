{
 "cells": [
  {
   "cell_type": "code",
   "execution_count": 1,
   "metadata": {},
   "outputs": [
    {
     "data": {
      "text/latex": [
       "$\\displaystyle \\frac{a}{T + b - t} + c$"
      ],
      "text/plain": [
       "a/(T + b - t) + c"
      ]
     },
     "execution_count": 1,
     "metadata": {},
     "output_type": "execute_result"
    }
   ],
   "source": [
    "from sympy import symbols, integrate\n",
    "\n",
    "#lambda t, T, a=0.9, b=0.6, c=0.1: a / (t + b) + c\n",
    "\n",
    "\n",
    "# Define the symbols for time t, and parameters a, b, c\n",
    "t, T,  a, b, c = symbols('t T a b c' )\n",
    "\n",
    "# Define the vol_structure function using SymPy notation\n",
    "sigma_bsr = a / (T-t + b) + c\n",
    "sigma_bsr\n",
    "#int_var_bs.evalf(subs={t:0}).rewrite\n",
    "\n"
   ]
  },
  {
   "cell_type": "markdown",
   "metadata": {},
   "source": [
    "## Variance"
   ]
  },
  {
   "cell_type": "code",
   "execution_count": 2,
   "metadata": {},
   "outputs": [
    {
     "data": {
      "text/latex": [
       "$\\displaystyle - \\frac{a^{2}}{- T - b + t} - 2 a c \\log{\\left(- T - b + t \\right)} + c^{2} t$"
      ],
      "text/plain": [
       "-a**2/(-T - b + t) - 2*a*c*log(-T - b + t) + c**2*t"
      ]
     },
     "execution_count": 2,
     "metadata": {},
     "output_type": "execute_result"
    }
   ],
   "source": [
    "var_bsr = sigma_bsr**2\n",
    "var_bsr\n",
    "int_var_bsr = integrate(var_bsr,t)\n",
    "int_var_bsr"
   ]
  },
  {
   "cell_type": "code",
   "execution_count": 3,
   "metadata": {},
   "outputs": [
    {
     "data": {
      "text/plain": [
       "<bound method Basic.refine of -a**2/(-T - b + t) - 2*a*c*log(-T - b + t) + c**2*t>"
      ]
     },
     "execution_count": 3,
     "metadata": {},
     "output_type": "execute_result"
    }
   ],
   "source": [
    "int_var_bsr.refine"
   ]
  },
  {
   "cell_type": "markdown",
   "metadata": {},
   "source": [
    "## Factors"
   ]
  },
  {
   "cell_type": "code",
   "execution_count": 4,
   "metadata": {},
   "outputs": [
    {
     "data": {
      "text/latex": [
       "$\\displaystyle - \\frac{a^{2}}{- T - b + t}$"
      ],
      "text/plain": [
       "-a**2/(-T - b + t)"
      ]
     },
     "execution_count": 4,
     "metadata": {},
     "output_type": "execute_result"
    }
   ],
   "source": [
    "# Define the symbols for time t, and parameters a, b, c\n",
    "t, T,  a, b, c = symbols('t T a b c' )\n",
    "f1 = (a /(T - t + b))**2\n",
    "\n",
    "integrate(f1,t)"
   ]
  },
  {
   "cell_type": "code",
   "execution_count": 5,
   "metadata": {},
   "outputs": [
    {
     "data": {
      "text/latex": [
       "$\\displaystyle - 2 a c \\log{\\left(- T - b + t \\right)}$"
      ],
      "text/plain": [
       "-2*a*c*log(-T - b + t)"
      ]
     },
     "execution_count": 5,
     "metadata": {},
     "output_type": "execute_result"
    }
   ],
   "source": [
    "f2 = 2 * a * c /(T-t +b)\n",
    "integrate(f2,t)"
   ]
  },
  {
   "cell_type": "code",
   "execution_count": 6,
   "metadata": {},
   "outputs": [
    {
     "data": {
      "text/latex": [
       "$\\displaystyle c^{2} t$"
      ],
      "text/plain": [
       "c**2*t"
      ]
     },
     "execution_count": 6,
     "metadata": {},
     "output_type": "execute_result"
    }
   ],
   "source": [
    "f3 = c**2\n",
    "integrate(f3,t)"
   ]
  }
 ],
 "metadata": {
  "kernelspec": {
   "display_name": ".venv",
   "language": "python",
   "name": "python3"
  },
  "language_info": {
   "codemirror_mode": {
    "name": "ipython",
    "version": 3
   },
   "file_extension": ".py",
   "mimetype": "text/x-python",
   "name": "python",
   "nbconvert_exporter": "python",
   "pygments_lexer": "ipython3",
   "version": "3.12.3"
  }
 },
 "nbformat": 4,
 "nbformat_minor": 2
}
