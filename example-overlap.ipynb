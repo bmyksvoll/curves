{
 "cells": [
  {
   "cell_type": "code",
   "execution_count": 21,
   "metadata": {},
   "outputs": [
    {
     "name": "stdout",
     "output_type": "stream",
     "text": [
      "The autoreload extension is already loaded. To reload it, use:\n",
      "  %reload_ext autoreload\n"
     ]
    }
   ],
   "source": [
    "# Load the autoreload extension\n",
    "%load_ext autoreload\n",
    "\n",
    "# Autoreload reloads modules before executing code\n",
    "# 0: disable\n",
    "# 1: reload modules imported with %aimport\n",
    "# 2: reload all modules, except those excluded by %aimport\n",
    "%autoreload 2"
   ]
  },
  {
   "cell_type": "markdown",
   "metadata": {},
   "source": [
    "## Defining the contracts\n"
   ]
  },
  {
   "cell_type": "code",
   "execution_count": 22,
   "metadata": {},
   "outputs": [
    {
     "data": {
      "text/html": [
       "<div>\n",
       "<style scoped>\n",
       "    .dataframe tbody tr th:only-of-type {\n",
       "        vertical-align: middle;\n",
       "    }\n",
       "\n",
       "    .dataframe tbody tr th {\n",
       "        vertical-align: top;\n",
       "    }\n",
       "\n",
       "    .dataframe thead th {\n",
       "        text-align: right;\n",
       "    }\n",
       "</style>\n",
       "<table border=\"1\" class=\"dataframe\">\n",
       "  <thead>\n",
       "    <tr style=\"text-align: right;\">\n",
       "      <th></th>\n",
       "      <th>Include</th>\n",
       "      <th>Contract</th>\n",
       "      <th>From</th>\n",
       "      <th>To</th>\n",
       "      <th>Price</th>\n",
       "      <th>Start_Diff</th>\n",
       "      <th>End_Diff</th>\n",
       "    </tr>\n",
       "  </thead>\n",
       "  <tbody>\n",
       "    <tr>\n",
       "      <th>0</th>\n",
       "      <td>True</td>\n",
       "      <td>JUL-21</td>\n",
       "      <td>2021-07-01</td>\n",
       "      <td>2021-08-01</td>\n",
       "      <td>32.55</td>\n",
       "      <td>14</td>\n",
       "      <td>45</td>\n",
       "    </tr>\n",
       "    <tr>\n",
       "      <th>1</th>\n",
       "      <td>True</td>\n",
       "      <td>AUG-21</td>\n",
       "      <td>2021-08-01</td>\n",
       "      <td>2021-09-01</td>\n",
       "      <td>32.50</td>\n",
       "      <td>45</td>\n",
       "      <td>76</td>\n",
       "    </tr>\n",
       "    <tr>\n",
       "      <th>2</th>\n",
       "      <td>True</td>\n",
       "      <td>SEP-21</td>\n",
       "      <td>2021-09-01</td>\n",
       "      <td>2021-10-01</td>\n",
       "      <td>32.50</td>\n",
       "      <td>76</td>\n",
       "      <td>106</td>\n",
       "    </tr>\n",
       "    <tr>\n",
       "      <th>3</th>\n",
       "      <td>True</td>\n",
       "      <td>OCT-21</td>\n",
       "      <td>2021-10-01</td>\n",
       "      <td>2021-11-01</td>\n",
       "      <td>32.08</td>\n",
       "      <td>106</td>\n",
       "      <td>137</td>\n",
       "    </tr>\n",
       "    <tr>\n",
       "      <th>4</th>\n",
       "      <td>True</td>\n",
       "      <td>NOV-21</td>\n",
       "      <td>2021-11-01</td>\n",
       "      <td>2021-12-01</td>\n",
       "      <td>36.88</td>\n",
       "      <td>137</td>\n",
       "      <td>167</td>\n",
       "    </tr>\n",
       "    <tr>\n",
       "      <th>5</th>\n",
       "      <td>True</td>\n",
       "      <td>DEC-21</td>\n",
       "      <td>2021-12-01</td>\n",
       "      <td>2022-01-01</td>\n",
       "      <td>39.80</td>\n",
       "      <td>167</td>\n",
       "      <td>198</td>\n",
       "    </tr>\n",
       "    <tr>\n",
       "      <th>6</th>\n",
       "      <td>True</td>\n",
       "      <td>Q1-22</td>\n",
       "      <td>2022-01-01</td>\n",
       "      <td>2022-04-01</td>\n",
       "      <td>39.40</td>\n",
       "      <td>198</td>\n",
       "      <td>288</td>\n",
       "    </tr>\n",
       "    <tr>\n",
       "      <th>7</th>\n",
       "      <td>True</td>\n",
       "      <td>Q2-22</td>\n",
       "      <td>2022-04-01</td>\n",
       "      <td>2022-07-01</td>\n",
       "      <td>25.20</td>\n",
       "      <td>288</td>\n",
       "      <td>379</td>\n",
       "    </tr>\n",
       "    <tr>\n",
       "      <th>8</th>\n",
       "      <td>True</td>\n",
       "      <td>Q3-22</td>\n",
       "      <td>2022-07-01</td>\n",
       "      <td>2022-10-01</td>\n",
       "      <td>21.15</td>\n",
       "      <td>379</td>\n",
       "      <td>471</td>\n",
       "    </tr>\n",
       "    <tr>\n",
       "      <th>9</th>\n",
       "      <td>True</td>\n",
       "      <td>Q4-22</td>\n",
       "      <td>2022-10-01</td>\n",
       "      <td>2022-12-31</td>\n",
       "      <td>29.50</td>\n",
       "      <td>471</td>\n",
       "      <td>562</td>\n",
       "    </tr>\n",
       "  </tbody>\n",
       "</table>\n",
       "</div>"
      ],
      "text/plain": [
       "   Include Contract       From         To  Price  Start_Diff  End_Diff\n",
       "0     True   JUL-21 2021-07-01 2021-08-01  32.55          14        45\n",
       "1     True   AUG-21 2021-08-01 2021-09-01  32.50          45        76\n",
       "2     True   SEP-21 2021-09-01 2021-10-01  32.50          76       106\n",
       "3     True   OCT-21 2021-10-01 2021-11-01  32.08         106       137\n",
       "4     True   NOV-21 2021-11-01 2021-12-01  36.88         137       167\n",
       "5     True   DEC-21 2021-12-01 2022-01-01  39.80         167       198\n",
       "6     True    Q1-22 2022-01-01 2022-04-01  39.40         198       288\n",
       "7     True    Q2-22 2022-04-01 2022-07-01  25.20         288       379\n",
       "8     True    Q3-22 2022-07-01 2022-10-01  21.15         379       471\n",
       "9     True    Q4-22 2022-10-01 2022-12-31  29.50         471       562"
      ]
     },
     "execution_count": 22,
     "metadata": {},
     "output_type": "execute_result"
    }
   ],
   "source": [
    "import pandas as pd\n",
    "\n",
    "trade_date = pd.to_datetime('2021-06-17')\n",
    "\n",
    "# Data from etrm R package by Anders Sleire\n",
    "# Data in the same structure as the R data.frame\n",
    "# tdate <- as.Date(\"2021-06-17\")\n",
    "data = {\n",
    "    'Include': [True, True, True, True, True, True, True, True, True, True],\n",
    "    'Contract': [\"JUL-21\", \"AUG-21\", \"SEP-21\", \"OCT-21\", \"NOV-21\", \"DEC-21\", \"Q1-22\", \"Q2-22\", \"Q3-22\", \"Q4-22\"],\n",
    "    'From': [\"2021-07-01\", \"2021-08-01\", \"2021-09-01\", \"2021-10-01\", \"2021-11-01\", \"2021-12-01\", \"2022-01-01\", \"2022-04-01\", \"2022-07-01\", \"2022-10-01\"],\n",
    "    'To': [\"2021-08-01\", \"2021-09-01\", \"2021-10-01\", \"2021-11-01\", \"2021-12-01\", \"2022-01-01\", \"2022-04-01\", \"2022-07-01\", \"2022-10-01\", \"2022-12-31\"],\n",
    "    'Price': [32.55, 32.5, 32.5, 32.08, 36.88, 39.8, 39.4, 25.2, 21.15, 29.5],\n",
    "}\n",
    "\n",
    "# Create pandas DataFrame\n",
    "df = pd.DataFrame(data)\n",
    "\n",
    "# Convert 'From' and 'To' columns to datetime\n",
    "df['From'] = pd.to_datetime(df['From'])\n",
    "df['To'] = pd.to_datetime(df['To'])\n",
    "\n",
    "# Calculate relative differences\n",
    "df['Start_Diff'] = (df['From'] - trade_date).dt.days\n",
    "df['End_Diff'] = (df['To'] - trade_date).dt.days\n",
    "\n",
    "taus = (df[['Start_Diff', 'End_Diff']].values/365).tolist()\n",
    "forward_prices = df['Price'].values.tolist()\n",
    "knots = [0] + sorted(set(item for sublist in taus for item in sublist))\n",
    "\n",
    "# Display the DataFrame\n",
    "df"
   ]
  },
  {
   "cell_type": "code",
   "execution_count": 23,
   "metadata": {},
   "outputs": [],
   "source": [
    "from curves import builder\n",
    "\n",
    "\n",
    "\n",
    "H = builder.calc_big_H(knots)\n",
    "A = builder.calc_big_A(knots, taus)\n",
    "B = builder.calc_B(forward_prices, knots,taus)\n",
    "X = builder.solve_lineq(H, A, B)\n",
    "\n"
   ]
  },
  {
   "cell_type": "code",
   "execution_count": 24,
   "metadata": {},
   "outputs": [],
   "source": [
    "#import openpyxl\n",
    "#pd.DataFrame(A).to_excel(\"A.xlsx\")"
   ]
  },
  {
   "cell_type": "markdown",
   "metadata": {},
   "source": [
    "## Plotting"
   ]
  },
  {
   "cell_type": "code",
   "execution_count": 25,
   "metadata": {},
   "outputs": [
    {
     "data": {
      "image/png": "[encoded data removed]",
      "text/plain": [
       "<Figure size 1000x500 with 1 Axes>"
      ]
     },
     "metadata": {},
     "output_type": "display_data"
    }
   ],
   "source": [
    "import numpy as np\n",
    "from numpy.polynomial import Polynomial\n",
    "import matplotlib.pyplot as plt\n",
    "\n",
    "# Plot the polynomials\n",
    "plt.figure(figsize=(10, 5))\n",
    "\n",
    "for i, coef in enumerate(X):\n",
    "    x = np.linspace(knots[i],knots[i+1], 10)\n",
    "    z = X[i]\n",
    "    z = z[::-1] # Reverse the polynomial coefficients to comply with numpy polynomial function\n",
    "    p = Polynomial(z)\n",
    "    integrate = p.integ()\n",
    "    integral = (integrate(knots[i+1])- integrate(knots[i]) ) / (knots[i+1] - knots[i])\n",
    "    #print(integral)\n",
    "    y = p(x)\n",
    "    plt.plot(x,y, label = 'Splines')"
   ]
  },
  {
   "cell_type": "code",
   "execution_count": 27,
   "metadata": {},
   "outputs": [
    {
     "data": {
      "text/plain": [
       "32.55000000000278"
      ]
     },
     "execution_count": 27,
     "metadata": {},
     "output_type": "execute_result"
    }
   ],
   "source": [
    "start = knots[1]\n",
    "end = knots[2]\n",
    "builder.calc_price(X, knots, start, end)\n"
   ]
  }
 ],
 "metadata": {
  "kernelspec": {
   "display_name": "Python 3",
   "language": "python",
   "name": "python3"
  },
  "language_info": {
   "codemirror_mode": {
    "name": "ipython",
    "version": 3
   },
   "file_extension": ".py",
   "mimetype": "text/x-python",
   "name": "python",
   "nbconvert_exporter": "python",
   "pygments_lexer": "ipython3",
   "version": "3.12.3"
  },
  "varInspector": {
   "cols": {
    "lenName": 16,
    "lenType": 16,
    "lenVar": 40
   },
   "kernels_config": {
    "python": {
     "delete_cmd_postfix": "",
     "delete_cmd_prefix": "del ",
     "library": "var_list.py",
     "varRefreshCmd": "print(var_dic_list())"
    },
    "r": {
     "delete_cmd_postfix": ") ",
     "delete_cmd_prefix": "rm(",
     "library": "var_list.r",
     "varRefreshCmd": "cat(var_dic_list()) "
    }
   },
   "types_to_exclude": [
    "module",
    "function",
    "builtin_function_or_method",
    "instance",
    "_Feature"
   ],
   "window_display": false
  }
 },
 "nbformat": 4,
 "nbformat_minor": 2
}
