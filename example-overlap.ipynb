{
 "cells": [
  {
   "cell_type": "markdown",
   "metadata": {},
   "source": [
    "## Functions"
   ]
  },
  {
   "cell_type": "code",
   "execution_count": 1,
   "metadata": {},
   "outputs": [],
   "source": [
    "import pandas as pd\n",
    "import datetime\n",
    "\n",
    "\n",
    "\n",
    "# Function to calculate relative difference and add new columns\n",
    "def add_relative_difference(df, trade_date):\n",
    "    # Convert trade_date to datetime if it's not already\n",
    "  \n",
    "    \n",
    "    # Calculate relative differences\n",
    "    df['Start_Diff'] = (df['From'] - trade_date).dt.days\n",
    "    df['End_Diff'] = (df['To'] - trade_date).dt.days\n",
    "    \n",
    "    # Return the modified DataFrame\n",
    "    return df"
   ]
  },
  {
   "cell_type": "markdown",
   "metadata": {},
   "source": [
    "## Defining the contracts\n"
   ]
  },
  {
   "cell_type": "code",
   "execution_count": 2,
   "metadata": {},
   "outputs": [
    {
     "name": "stdout",
     "output_type": "stream",
     "text": [
      "   Include Contract       From         To  Price\n",
      "0     True   JUL-21 2021-07-01 2021-08-01  32.55\n",
      "1     True   AUG-21 2021-08-01 2021-09-01  32.50\n",
      "2     True   SEP-21 2021-09-01 2021-10-01  32.50\n",
      "3     True   OCT-21 2021-10-01 2021-11-01  32.08\n",
      "4     True   NOV-21 2021-11-01 2021-12-01  36.88\n",
      "5     True   DEC-21 2021-12-01 2022-01-01  39.80\n",
      "6     True    Q1-22 2022-01-01 2022-04-01  39.40\n",
      "7     True    Q2-22 2022-04-01 2022-07-01  25.20\n",
      "8     True    Q3-22 2022-07-01 2022-10-01  21.15\n",
      "9     True    Q4-22 2022-10-01 2022-12-31  29.50\n"
     ]
    }
   ],
   "source": [
    "import pandas as pd\n",
    "\n",
    "\n",
    "# Data from etrm R package by Anders Sleire\n",
    "# Data in the same structure as the R data.frame\n",
    "# tdate <- as.Date(\"2021-06-17\")\n",
    "data = {\n",
    "    'Include': [True, True, True, True, True, True, True, True, True, True],\n",
    "    'Contract': [\"JUL-21\", \"AUG-21\", \"SEP-21\", \"OCT-21\", \"NOV-21\", \"DEC-21\", \"Q1-22\", \"Q2-22\", \"Q3-22\", \"Q4-22\"],\n",
    "    'From': [\"2021-07-01\", \"2021-08-01\", \"2021-09-01\", \"2021-10-01\", \"2021-11-01\", \"2021-12-01\", \"2022-01-01\", \"2022-04-01\", \"2022-07-01\", \"2022-10-01\"],\n",
    "    'To': [\"2021-08-01\", \"2021-09-01\", \"2021-10-01\", \"2021-11-01\", \"2021-12-01\", \"2022-01-01\", \"2022-04-01\", \"2022-07-01\", \"2022-10-01\", \"2022-12-31\"],\n",
    "    'Price': [32.55, 32.5, 32.5, 32.08, 36.88, 39.8, 39.4, 25.2, 21.15, 29.5],\n",
    "}\n",
    "\n",
    "# Create pandas DataFrame\n",
    "df = pd.DataFrame(data)\n",
    "\n",
    "# Convert 'From' and 'To' columns to datetime\n",
    "df['From'] = pd.to_datetime(df['From'])\n",
    "df['To'] = pd.to_datetime(df['To'])\n",
    "\n",
    "# Display the DataFrame\n",
    "print(df)"
   ]
  },
  {
   "cell_type": "code",
   "execution_count": 3,
   "metadata": {},
   "outputs": [],
   "source": [
    "trade_date = pd.to_datetime('2021-06-17')\n",
    "\n",
    "df = add_relative_difference(df, trade_date)\n",
    "\n",
    "# Display the DataFrame with the new columns\n",
    "df = df[df['Include']]\n",
    "df.to_clipboard()\n"
   ]
  },
  {
   "cell_type": "code",
   "execution_count": 22,
   "metadata": {},
   "outputs": [
    {
     "data": {
      "text/plain": [
       "(41, 55)"
      ]
     },
     "execution_count": 22,
     "metadata": {},
     "output_type": "execute_result"
    }
   ],
   "source": [
    "from curves import axis, plot, builder\n",
    "taus = df[['Start_Diff', 'End_Diff']].values.tolist()\n",
    "forward_prices = df['Price'].values.tolist()\n",
    "knots = [0] + sorted(set(item for sublist in taus for item in sublist))\n",
    "\n",
    "H = builder.calc_big_H(taus)\n",
    "A = builder.calc_big_A(knots, taus)\n",
    "B = builder.calc_B(forward_prices, taus)\n",
    "#X = builder.solve_lineq(H, A, B)\n",
    "\n",
    "\n",
    "A.shape"
   ]
  },
  {
   "cell_type": "code",
   "execution_count": 23,
   "metadata": {},
   "outputs": [
    {
     "data": {
      "text/plain": [
       "[0, 14, 45, 76, 106, 137, 167, 198, 288, 379, 471, 562]"
      ]
     },
     "execution_count": 23,
     "metadata": {},
     "output_type": "execute_result"
    }
   ],
   "source": [
    "#for i, knot in enumerate(knots):\n",
    "#builder.calc_constraints(2)\n",
    "import numpy.matlib as npm\n",
    "import numpy as np\n",
    "\n",
    "m = len(taus)\n",
    "n = len(knots)- 1 \n",
    "A = npm.zeros((3 * n + m - 2, 5 * n))\n",
    "A.shape\n",
    "\n",
    "knots\n"
   ]
  }
 ],
 "metadata": {
  "kernelspec": {
   "display_name": "Python 3",
   "language": "python",
   "name": "python3"
  },
  "language_info": {
   "codemirror_mode": {
    "name": "ipython",
    "version": 3
   },
   "file_extension": ".py",
   "mimetype": "text/x-python",
   "name": "python",
   "nbconvert_exporter": "python",
   "pygments_lexer": "ipython3",
   "version": "3.12.3"
  },
  "varInspector": {
   "cols": {
    "lenName": 16,
    "lenType": 16,
    "lenVar": 40
   },
   "kernels_config": {
    "python": {
     "delete_cmd_postfix": "",
     "delete_cmd_prefix": "del ",
     "library": "var_list.py",
     "varRefreshCmd": "print(var_dic_list())"
    },
    "r": {
     "delete_cmd_postfix": ") ",
     "delete_cmd_prefix": "rm(",
     "library": "var_list.r",
     "varRefreshCmd": "cat(var_dic_list()) "
    }
   },
   "types_to_exclude": [
    "module",
    "function",
    "builtin_function_or_method",
    "instance",
    "_Feature"
   ],
   "window_display": false
  }
 },
 "nbformat": 4,
 "nbformat_minor": 2
}
